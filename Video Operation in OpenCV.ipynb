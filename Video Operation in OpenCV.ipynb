{
 "cells": [
  {
   "cell_type": "code",
   "execution_count": 1,
   "id": "c9ca9be1-6a90-4cca-b246-67ac1b7c0425",
   "metadata": {},
   "outputs": [],
   "source": [
    "import cv2"
   ]
  },
  {
   "cell_type": "code",
   "execution_count": 2,
   "id": "c057e936-15cd-4661-b007-e318ba9a6a82",
   "metadata": {},
   "outputs": [
    {
     "name": "stdout",
     "output_type": "stream",
     "text": [
      "True\n"
     ]
    }
   ],
   "source": [
    "import os\n",
    "\n",
    "print(os.path.exists(r\"D:\\Yadh Documents\\Self Studies\\DIP\\Peak Acting.mp4\"))"
   ]
  },
  {
   "cell_type": "markdown",
   "id": "d951e30c-6ea3-46e9-a3a7-ab454a73ba68",
   "metadata": {},
   "source": [
    "#### Video is a collection of images, we shall use the same logic to display a video"
   ]
  },
  {
   "cell_type": "code",
   "execution_count": 10,
   "id": "eb337bd5-81b9-465b-8d7e-f40c8310d34d",
   "metadata": {},
   "outputs": [
    {
     "name": "stdout",
     "output_type": "stream",
     "text": [
      "End of Video\n"
     ]
    }
   ],
   "source": [
    "file_path = r\"D:\\Yadh Documents\\Self Studies\\DIP\\Peak Acting.mp4\"\n",
    "\n",
    "video = cv2.VideoCapture(file_path)\n",
    "# print(video)\n",
    "\n",
    "\n",
    "while True:\n",
    "    ret,frame = video.read() # ret is boolean\n",
    "    if not ret:\n",
    "        print(\"End of Video\")\n",
    "        break\n",
    "    frame = cv2.resize(frame, (300,400))\n",
    "    cv2.imshow(\"Peak Acting\",frame)\n",
    "    k =  cv2.waitKey(25)\n",
    "    if k == ord('q') & 0xFF:\n",
    "        break\n",
    "\n",
    "video.release() \n",
    "cv2.destroyAllWindows()"
   ]
  },
  {
   "cell_type": "markdown",
   "id": "1c436db5-2d92-4f11-921a-c2f32241f66e",
   "metadata": {},
   "source": [
    "#### Convert to greyscale"
   ]
  },
  {
   "cell_type": "code",
   "execution_count": 12,
   "id": "a3886a6f-45e7-410a-8acb-a57e04197aef",
   "metadata": {},
   "outputs": [
    {
     "name": "stdout",
     "output_type": "stream",
     "text": [
      "End of Video\n"
     ]
    }
   ],
   "source": [
    "file_path = r\"D:\\Yadh Documents\\Self Studies\\DIP\\Peak Acting.mp4\"\n",
    "\n",
    "video = cv2.VideoCapture(file_path)\n",
    "# print(video)\n",
    "\n",
    "\n",
    "while True:\n",
    "    ret,frame = video.read() # ret is boolean\n",
    "    if not ret:\n",
    "        print(\"End of Video\")\n",
    "        break\n",
    "    frame = cv2.resize(frame, (300,400))\n",
    "    gray = cv2.cvtColor(frame, cv2.COLOR_BGR2GRAY )\n",
    "    cv2.imshow(\"Peak Acting\",gray)\n",
    "    k =  cv2.waitKey(25)\n",
    "    if k == ord('q') & 0xFF:\n",
    "        break\n",
    "\n",
    "video.release() \n",
    "cv2.destroyAllWindows()"
   ]
  },
  {
   "cell_type": "markdown",
   "id": "e009e427-2c3a-4f2f-a1fa-215caca23c25",
   "metadata": {},
   "source": [
    "#### Taking from webcam"
   ]
  },
  {
   "cell_type": "code",
   "execution_count": 15,
   "id": "5803e7d5-997c-400e-8012-a50cf929aaac",
   "metadata": {},
   "outputs": [],
   "source": [
    "\n",
    "\n",
    "video = cv2.VideoCapture(0)\n",
    "\n",
    "while video.isOpened():\n",
    "    ret,frame = video.read() # ret is boolean\n",
    "\n",
    "    frame = cv2.resize(frame, (500,400))\n",
    "    cv2.imshow(\"Peak Acting\",frame)\n",
    "    k =  cv2.waitKey(25)\n",
    "    if k == ord('q') & 0xFF:\n",
    "        break\n",
    "\n",
    "video.release() \n",
    "cv2.destroyAllWindows()"
   ]
  },
  {
   "cell_type": "markdown",
   "id": "5fca6f86-6fff-4f0f-ba11-5ff4f111eef9",
   "metadata": {},
   "source": [
    "#### Webcam in grayscale"
   ]
  },
  {
   "cell_type": "code",
   "execution_count": 16,
   "id": "11ebe55c-e141-426b-b996-700cfc6caa97",
   "metadata": {},
   "outputs": [],
   "source": [
    "video = cv2.VideoCapture(0)\n",
    "\n",
    "while video.isOpened():\n",
    "    ret, frame = video.read()\n",
    "    if not ret:\n",
    "        print(\"Camera is Closed\")\n",
    "        break\n",
    "    frame = cv2.resize(frame, (500,400))\n",
    "    gray = cv2.cvtColor(frame, cv2.COLOR_BGR2GRAY)\n",
    "    cv2.imshow(\"Peak Acting\", gray)\n",
    "    k = cv2.waitKey(25)\n",
    "    if k == ord('q') & 0xFF:\n",
    "        break\n",
    "\n",
    "video.release()\n",
    "cv2.destroyAllWindows()"
   ]
  },
  {
   "cell_type": "markdown",
   "id": "2ef04c89-0e03-4472-aae3-43b267bbf8a4",
   "metadata": {},
   "source": [
    "#### Saving the file"
   ]
  },
  {
   "cell_type": "code",
   "execution_count": 18,
   "id": "6a2e27a3-286d-4b46-a708-f18fbff9bdcf",
   "metadata": {},
   "outputs": [],
   "source": [
    "video = cv2.VideoCapture(0)\n",
    "\n",
    "fc = cv2.VideoWriter_fourcc(*\"XVID\")\n",
    "output = cv2.VideoWriter(r\"C:\\Users\\hp\\Downloads\\Python Webcam.avi\", fc, 20.0, (500,400))\n",
    "\n",
    "while video.isOpened():\n",
    "    ret, frame = video.read()\n",
    "    if not ret:\n",
    "        print(\"Camera is Closed\")\n",
    "        break\n",
    "    gray = cv2.cvtColor(frame, cv2.COLOR_BGR2GRAY)\n",
    "    cv2.imshow(\"Peak Acting\", gray)\n",
    "    output.write(gray)\n",
    "    print(\"Video saved to downloads\")\n",
    "    k = cv2.waitKey(25)\n",
    "    if k == ord('q') & 0xFF:\n",
    "        break\n",
    "\n",
    "video.release()\n",
    "output.release()\n",
    "cv2.destroyAllWindows()"
   ]
  },
  {
   "cell_type": "markdown",
   "id": "fe9cf7b5-7f00-4802-b6ed-97ac57095bc5",
   "metadata": {},
   "source": [
    "#### Flipped"
   ]
  },
  {
   "cell_type": "code",
   "execution_count": 19,
   "id": "0695a4a1-d180-4e42-8741-0567466922de",
   "metadata": {},
   "outputs": [],
   "source": [
    "video = cv2.VideoCapture(0)\n",
    "\n",
    "while video.isOpened():\n",
    "    ret, frame = video.read()\n",
    "    if not ret:\n",
    "        print(\"Camera is Closed\")\n",
    "        break\n",
    "    frame = cv2.resize(frame, (500,400))\n",
    "    gray = cv2.cvtColor(frame, cv2.COLOR_BGR2GRAY)\n",
    "    gray = cv2.flip(gray, 0)\n",
    "    cv2.imshow(\"Peak Acting\", gray)\n",
    "    k = cv2.waitKey(25)\n",
    "    if k == ord('q') & 0xFF:\n",
    "        break\n",
    "\n",
    "video.release()\n",
    "cv2.destroyAllWindows()"
   ]
  },
  {
   "cell_type": "code",
   "execution_count": 21,
   "id": "63323ade-def4-480a-902a-0f85b22574cb",
   "metadata": {},
   "outputs": [],
   "source": []
  },
  {
   "cell_type": "code",
   "execution_count": null,
   "id": "94eb92ee-a594-490e-9b9f-73e25f3d8a5f",
   "metadata": {},
   "outputs": [],
   "source": []
  }
 ],
 "metadata": {
  "kernelspec": {
   "display_name": "Python 3 (ipykernel)",
   "language": "python",
   "name": "python3"
  },
  "language_info": {
   "codemirror_mode": {
    "name": "ipython",
    "version": 3
   },
   "file_extension": ".py",
   "mimetype": "text/x-python",
   "name": "python",
   "nbconvert_exporter": "python",
   "pygments_lexer": "ipython3",
   "version": "3.12.6"
  }
 },
 "nbformat": 4,
 "nbformat_minor": 5
}
