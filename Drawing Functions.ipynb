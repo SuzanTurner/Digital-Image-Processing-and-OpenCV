{
 "cells": [
  {
   "cell_type": "code",
   "execution_count": 1,
   "id": "35926af5-38c5-4b0e-8d37-4bef77420350",
   "metadata": {},
   "outputs": [],
   "source": [
    "import cv2\n",
    "import numpy"
   ]
  },
  {
   "cell_type": "code",
   "execution_count": 2,
   "id": "79a27b6e-a273-49ea-b50b-1bc39145f97c",
   "metadata": {},
   "outputs": [],
   "source": [
    "path = r\"D:\\Yadh Documents\\College Stuff\\Pictures\\Baby.jpg\""
   ]
  },
  {
   "cell_type": "code",
   "execution_count": 4,
   "id": "5f214f11-8e1b-4886-88d5-076282e8c72c",
   "metadata": {},
   "outputs": [
    {
     "name": "stdout",
     "output_type": "stream",
     "text": [
      "True\n"
     ]
    }
   ],
   "source": [
    "import os\n",
    "\n",
    "print(os.path.exists(path))"
   ]
  },
  {
   "cell_type": "code",
   "execution_count": 35,
   "id": "d147100d-ddaf-48b7-991e-baef9bdad151",
   "metadata": {},
   "outputs": [],
   "source": [
    "image = cv2.imread(path)\n",
    "image = cv2.resize(image, (250,400))"
   ]
  },
  {
   "cell_type": "code",
   "execution_count": 14,
   "id": "4aeb0bb9-aa53-4225-a00e-da20412df0c9",
   "metadata": {},
   "outputs": [],
   "source": [
    "cv2.imshow(\"Baby Yadh\", image)\n",
    "\n",
    "cv2.waitKey(0) \n",
    "cv2.destroyAllWindows()"
   ]
  },
  {
   "cell_type": "code",
   "execution_count": 22,
   "id": "b20285ab-3584-4ab4-ba3c-a1ab9c3be81d",
   "metadata": {},
   "outputs": [],
   "source": [
    "# Now to draw a line, we pass 5 parameters: image, coordiates of starting point, coordinates of ending point, color in BGR format, and thickness\n",
    "\n",
    "image = cv2.line(image, (0,0), (200,200), (154, 92, 424), 5)\n",
    "cv2.imshow(\"Baby Yadh\", image)\n",
    "\n",
    "cv2.waitKey(0) \n",
    "cv2.destroyAllWindows()\n"
   ]
  },
  {
   "cell_type": "code",
   "execution_count": 18,
   "id": "fa105533-0d46-42f0-a830-f75627fa8bbd",
   "metadata": {},
   "outputs": [],
   "source": [
    "# Draws an arrowed line with arrow at the end coordinate\n",
    "\n",
    "image = cv2.arrowedLine(image, (0,0), (200,300), (14, 92, 500), 5)\n",
    "cv2.imshow(\"Baby Yadh\", image)\n",
    "\n",
    "cv2.waitKey(0) \n",
    "cv2.destroyAllWindows()"
   ]
  },
  {
   "cell_type": "code",
   "execution_count": 24,
   "id": "7d5a7d90-6ffd-4b74-a9f0-504596c45bd6",
   "metadata": {},
   "outputs": [],
   "source": [
    "# Draws a rectangle\n",
    "\n",
    "image = cv2.rectangle(image, (20,0), (200,300), (140, 92, 69), 5)\n",
    "cv2.imshow(\"Baby Yadh\", image)\n",
    "\n",
    "cv2.waitKey(0) \n",
    "cv2.destroyAllWindows()"
   ]
  },
  {
   "cell_type": "code",
   "execution_count": 26,
   "id": "bf2ac807-9f81-41be-9933-5561ca02a4f3",
   "metadata": {},
   "outputs": [],
   "source": [
    "# Draws a rectangle filled, by changing thickness value to negetive\n",
    "\n",
    "image = cv2.rectangle(image, (20,0), (200,300), (69, 69, 69), -45)\n",
    "cv2.imshow(\"Baby Yadh\", image)\n",
    "\n",
    "cv2.waitKey(0) \n",
    "cv2.destroyAllWindows()"
   ]
  },
  {
   "cell_type": "code",
   "execution_count": 29,
   "id": "5c9c7a1d-787c-4ca3-84f8-861a263a608e",
   "metadata": {},
   "outputs": [],
   "source": [
    "# Draws a circle\n",
    "# Takes parameters: image, coordinates of center, radius of circle, tuple BGR, thickness\n",
    "image = cv2.circle(image, (200,200), 100, (69, 420, 69), -45)\n",
    "cv2.imshow(\"Baby Yadh\", image)\n",
    "\n",
    "cv2.waitKey(0) \n",
    "cv2.destroyAllWindows()"
   ]
  },
  {
   "cell_type": "code",
   "execution_count": 36,
   "id": "7d19afcd-c456-4b3d-8799-24410f3f4b5b",
   "metadata": {},
   "outputs": [],
   "source": [
    "# Writes text\n",
    "# Takes parameters: image, text, text coordinates, font, text-size, BGR tuple, thickness, cv2.LINE_AA\n",
    "image = cv2.putText(image, \"Baby Yadh\", (50, 50), cv2.FONT_HERSHEY_SIMPLEX, 1, (420,420,420), 4, cv2.LINE_AA)\n",
    "cv2.imshow(\"Baby Yadh\", image)\n",
    "\n",
    "cv2.waitKey(0) \n",
    "cv2.destroyAllWindows()"
   ]
  },
  {
   "cell_type": "code",
   "execution_count": 37,
   "id": "d2da533f-7296-425f-9f78-ae3bd2a948a5",
   "metadata": {},
   "outputs": [],
   "source": [
    "# Creating a black image\n",
    "# T\n",
    "\n",
    "black_image = numpy.zeros([500,500,3], numpy.uint8) * 255\n",
    "cv2.imshow(\"Black\", black_image)\n",
    "\n",
    "cv2.waitKey(0)\n",
    "cv2.destroyAllWindows()"
   ]
  },
  {
   "cell_type": "code",
   "execution_count": 38,
   "id": "7c7f7e96-4f9a-4881-ad9d-c920401b4d14",
   "metadata": {},
   "outputs": [],
   "source": [
    "# Creating a white image\n",
    "\n",
    "white_image = numpy.ones([500,500,3], numpy.uint8) * 255\n",
    "cv2.imshow(\"White\", white_image)\n",
    "\n",
    "cv2.waitKey(0)\n",
    "cv2.destroyAllWindows()"
   ]
  },
  {
   "cell_type": "code",
   "execution_count": null,
   "id": "af2297d3-8c9e-497d-af09-f93418bf899d",
   "metadata": {},
   "outputs": [],
   "source": []
  }
 ],
 "metadata": {
  "kernelspec": {
   "display_name": "Python 3 (ipykernel)",
   "language": "python",
   "name": "python3"
  },
  "language_info": {
   "codemirror_mode": {
    "name": "ipython",
    "version": 3
   },
   "file_extension": ".py",
   "mimetype": "text/x-python",
   "name": "python",
   "nbconvert_exporter": "python",
   "pygments_lexer": "ipython3",
   "version": "3.12.6"
  }
 },
 "nbformat": 4,
 "nbformat_minor": 5
}
