{
 "cells": [
  {
   "cell_type": "code",
   "execution_count": 4,
   "id": "d4d1d35b-f60c-4f25-80ab-bcd810c299a8",
   "metadata": {},
   "outputs": [],
   "source": [
    "import cv2\n",
    "import numpy"
   ]
  },
  {
   "cell_type": "code",
   "execution_count": 5,
   "id": "a31e480a-c3ed-413e-892a-f9d25d80ffbb",
   "metadata": {},
   "outputs": [],
   "source": [
    "video = cv2.VideoCapture(r\"C:\\Users\\hp\\Videos\\Screen Recordings\\ball.mp4\")\n"
   ]
  },
  {
   "cell_type": "code",
   "execution_count": 6,
   "id": "e0380db0-8fd4-431e-ae30-5ba42111ff52",
   "metadata": {},
   "outputs": [],
   "source": [
    "ret, prev_frame = video.read()\n",
    "if not ret:\n",
    "    print(\"Unable to read video\")\n",
    "    video.release()\n",
    "    exit()\n",
    "\n",
    "# Convert first frame to grayscale\n",
    "prev_gray = cv2.cvtColor(prev_frame, cv2.COLOR_BGR2GRAY)\n",
    "\n",
    "# Parameters for Lucas-Kanade optical flow\n",
    "lk_params = dict(\n",
    "    winSize=(15, 15),\n",
    "    maxLevel=2,\n",
    "    criteria=(cv2.TERM_CRITERIA_EPS | cv2.TERM_CRITERIA_COUNT, 10, 0.03)\n",
    ")\n",
    "\n",
    "# Detect good features to track\n",
    "prev_corners = cv2.goodFeaturesToTrack(prev_gray, mask=None, maxCorners=10, qualityLevel=0.3, minDistance=10, blockSize=7)\n",
    "\n",
    "# Create a mask image for drawing\n",
    "mask = numpy.zeros_like(prev_frame)\n",
    "\n",
    "while True:\n",
    "    ret, current_frame = video.read()\n",
    "    if not ret:\n",
    "        break\n",
    "\n",
    "    # Convert to grayscale\n",
    "    current_gray = cv2.cvtColor(current_frame, cv2.COLOR_BGR2GRAY)\n",
    "\n",
    "    # Calculate optical flow\n",
    "    current_corners, status, error = cv2.calcOpticalFlowPyrLK(prev_gray, current_gray, prev_corners, None, **lk_params)\n",
    "\n",
    "    # Select good points\n",
    "    good_new = current_corners[status == 1]\n",
    "    good_old = prev_corners[status == 1]\n",
    "\n",
    "    # Draw the tracks\n",
    "    for i, (new, old) in enumerate(zip(good_new, good_old)):\n",
    "        a, b = new.ravel()\n",
    "        c, d = old.ravel()\n",
    "        mask = cv2.line(mask, (int(a), int(b)), (int(c), int(d)), (0, 255, 0), 2)\n",
    "        current_frame = cv2.circle(current_frame, (int(a), int(b)), 5, (0, 0, 255), -1)\n",
    "\n",
    "    # Overlay the mask on the frame\n",
    "    output = cv2.add(current_frame, mask)\n",
    "\n",
    "    # Show the output\n",
    "    cv2.imshow(\"Optical Flow\", output)\n",
    "\n",
    "    if cv2.waitKey(30) & 0xFF == ord('q'):\n",
    "        break\n",
    "\n",
    "    # Update previous frame and points\n",
    "    prev_gray = current_gray.copy()\n",
    "    prev_corners = good_new.reshape(-1, 1, 2)\n",
    "\n",
    "video.release()\n",
    "cv2.destroyAllWindows()\n"
   ]
  },
  {
   "cell_type": "code",
   "execution_count": null,
   "id": "4b65f8cf-c1d0-443f-92d8-383131259df0",
   "metadata": {},
   "outputs": [],
   "source": []
  },
  {
   "cell_type": "code",
   "execution_count": null,
   "id": "c4056301-7157-40fd-b00d-870f512e35d6",
   "metadata": {},
   "outputs": [],
   "source": []
  }
 ],
 "metadata": {
  "kernelspec": {
   "display_name": "Python 3 (ipykernel)",
   "language": "python",
   "name": "python3"
  },
  "language_info": {
   "codemirror_mode": {
    "name": "ipython",
    "version": 3
   },
   "file_extension": ".py",
   "mimetype": "text/x-python",
   "name": "python",
   "nbconvert_exporter": "python",
   "pygments_lexer": "ipython3",
   "version": "3.12.6"
  }
 },
 "nbformat": 4,
 "nbformat_minor": 5
}
