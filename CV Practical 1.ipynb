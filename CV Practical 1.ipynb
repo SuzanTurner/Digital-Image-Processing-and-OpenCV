{
 "cells": [
  {
   "cell_type": "markdown",
   "id": "2ae1ea9a-67cd-4c1e-9751-9de56b6d51a6",
   "metadata": {},
   "source": [
    "#### Analyze the differences between RGB and Grayscale image representations by converting an image and visualizing its pixel values and intensity histograms."
   ]
  },
  {
   "cell_type": "markdown",
   "id": "8e4d3821-9b71-43fb-ad12-9cef35799723",
   "metadata": {},
   "source": [
    "##### Yadhnika Wakde\n",
    "##### Roll No: 14\n",
    "##### Batch: A-1\n",
    "##### Practical 1"
   ]
  },
  {
   "cell_type": "code",
   "execution_count": null,
   "id": "5691abb8-0464-4fbb-b607-8aeae4cb1514",
   "metadata": {},
   "outputs": [],
   "source": [
    "import numpy as np\n",
    "from PIL import Image\n",
    "import matplotlib.pyplot as plt\n",
    "\n",
    "def analyze_image(input_image_path):\n",
    "    # Load the image\n",
    "    img = Image.open(input_image_path)\n",
    "    \n",
    "    # Convert the image to RGB (if not already)\n",
    "    img_rgb = img.convert('RGB')\n",
    "\n",
    "    # Convert the image to Grayscale\n",
    "    img_gray = img.convert('L')\n",
    "\n",
    "    # Convert images to numpy arrays\n",
    "    rgb_array = np.array(img_rgb)\n",
    "    gray_array = np.array(img_gray)\n",
    "\n",
    "    # Display the original RGB image and Grayscale image\n",
    "    plt.figure(figsize=(12, 6))\n",
    "    \n",
    "    plt.subplot(2, 3, 1)\n",
    "    plt.imshow(rgb_array)\n",
    "    plt.title('RGB Image')\n",
    "    plt.axis('off')\n",
    "\n",
    "    plt.subplot(2, 3, 2)\n",
    "    plt.imshow(gray_array, cmap='gray')\n",
    "    plt.title('Grayscale Image')\n",
    "    plt.axis('off')\n",
    "\n",
    "    # Plot RGB channels as intensity histograms\n",
    "    colors = ['Red', 'Green', 'Blue']\n",
    "    for i, color in enumerate(colors):\n",
    "        plt.subplot(2, 3, 4 + i)\n",
    "        plt.hist(rgb_array[:, :, i].flatten(), bins=256, color=color.lower(), alpha=0.7)\n",
    "        plt.title(f'{color} Channel Histogram')\n",
    "        plt.xlabel('Intensity')\n",
    "        plt.ylabel('Frequency')\n",
    "\n",
    "    # Plot Grayscale intensity histogram\n",
    "    plt.subplot(2, 3, 3)\n",
    "    plt.hist(gray_array.flatten(), bins=256, color='gray', alpha=0.7)\n",
    "    plt.title('Grayscale Intensity Histogram')\n",
    "    plt.xlabel('Intensity')\n",
    "    plt.ylabel('Frequency')\n",
    "\n",
    "    plt.tight_layout()\n",
    "    plt.show()\n",
    "\n",
    "# Provide the path to your image\n",
    "input_image_path = 'your_image.jpg'  # Replace with your image path\n",
    "analyze_image(input_image_path)"
   ]
  }
 ],
 "metadata": {
  "kernelspec": {
   "display_name": "Python 3 (ipykernel)",
   "language": "python",
   "name": "python3"
  },
  "language_info": {
   "codemirror_mode": {
    "name": "ipython",
    "version": 3
   },
   "file_extension": ".py",
   "mimetype": "text/x-python",
   "name": "python",
   "nbconvert_exporter": "python",
   "pygments_lexer": "ipython3",
   "version": "3.12.6"
  }
 },
 "nbformat": 4,
 "nbformat_minor": 5
}
