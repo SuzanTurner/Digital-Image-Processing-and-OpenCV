{
 "cells": [
  {
   "cell_type": "code",
   "execution_count": 1,
   "id": "6ece7c79-8a4b-488d-aa2d-8e6b65d4d498",
   "metadata": {},
   "outputs": [],
   "source": [
    "import cv2"
   ]
  },
  {
   "cell_type": "code",
   "execution_count": 16,
   "id": "26c433ad-11ce-4ed3-bcee-802843a68f2f",
   "metadata": {},
   "outputs": [
    {
     "name": "stdout",
     "output_type": "stream",
     "text": [
      "Video saved in downloads\n"
     ]
    }
   ],
   "source": [
    "\n",
    "\n",
    "camera = \"https://192.0.0.4:8080/video\"\n",
    "\n",
    "video = cv2.VideoCapture(0)\n",
    "video.open(camera)\n",
    "fc = cv2.VideoWriter_fourcc(*\"XVID\")\n",
    "output = cv2.VideoWriter(r\"C:\\Users\\hp\\Downloads\\Through Phone Camera.mp4\", fc, 20.0, (500,400))\n",
    "\n",
    "while video.isOpened():\n",
    "    ret, frame = video.read()\n",
    "    if ret:\n",
    "        frame = cv2.resize(frame, (500,400))\n",
    "        cv2.imshow(\"Frames\",frame)\n",
    "        output.write(frame)\n",
    "        if cv2.waitKey(25) & 0xFF == ord('q'):\n",
    "            break\n",
    "\n",
    "output.release()\n",
    "video.release()\n",
    "cv2.destroyAllWindows()\n",
    "\n",
    "print(\"Video saved in downloads\")"
   ]
  },
  {
   "cell_type": "code",
   "execution_count": null,
   "id": "85d7f974-1ebb-48d3-95c5-e25c396b16c5",
   "metadata": {},
   "outputs": [],
   "source": []
  }
 ],
 "metadata": {
  "kernelspec": {
   "display_name": "Python 3 (ipykernel)",
   "language": "python",
   "name": "python3"
  },
  "language_info": {
   "codemirror_mode": {
    "name": "ipython",
    "version": 3
   },
   "file_extension": ".py",
   "mimetype": "text/x-python",
   "name": "python",
   "nbconvert_exporter": "python",
   "pygments_lexer": "ipython3",
   "version": "3.12.6"
  }
 },
 "nbformat": 4,
 "nbformat_minor": 5
}
