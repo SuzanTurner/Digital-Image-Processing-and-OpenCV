{
 "cells": [
  {
   "cell_type": "code",
   "execution_count": 2,
   "id": "787e778b-eb5a-4d95-b920-6862a78aab19",
   "metadata": {},
   "outputs": [],
   "source": [
    "import cv2"
   ]
  },
  {
   "cell_type": "code",
   "execution_count": 3,
   "id": "edacfd9a-b7c6-4735-a7e6-ce875d6bc913",
   "metadata": {},
   "outputs": [],
   "source": [
    "img = cv2.imread(r'D:\\Yadh Documents\\College Stuff\\Pictures\\Baby.jpg')\n",
    "# print(img) #shows matrix\n",
    "img = cv2.resize(img, (300,500))\n",
    "cv2.imshow(\"Baby\",img)\n",
    "cv2.waitKey()\n",
    "cv2.destroyAllWindows()"
   ]
  },
  {
   "cell_type": "markdown",
   "id": "838b0920-0264-49dd-9b8c-1d30244bab6d",
   "metadata": {},
   "source": [
    "#### Convert to greyscale"
   ]
  },
  {
   "cell_type": "code",
   "execution_count": 4,
   "id": "06e7a524-fe9f-477d-b3c8-92a1d5ccc6aa",
   "metadata": {},
   "outputs": [],
   "source": [
    "img = cv2.imread(r'D:\\Yadh Documents\\College Stuff\\Pictures\\Baby.jpg', 0)\n",
    "img = cv2.resize(img, (300,500))\n",
    "cv2.imshow(\"Baby is Grey\", img)\n",
    "#cv2.imwrite(r\"C:\\Users\\hp\\Downloads\\Baby is Grey.jpg\", img) # Saving the image\n",
    "cv2.waitKey(3000) # holds the image for 3 seconds, then screen is destroyed\n",
    "cv2.destroyAllWindows()"
   ]
  },
  {
   "cell_type": "markdown",
   "id": "15c45b7d-8706-4f26-a0b0-b8701b2f533b",
   "metadata": {},
   "source": [
    "#### Giving higher saturation"
   ]
  },
  {
   "cell_type": "code",
   "execution_count": 7,
   "id": "c321727f-1bf7-4c5b-80ac-1c8003998b36",
   "metadata": {},
   "outputs": [],
   "source": [
    "img = cv2.imread(r'D:\\Yadh Documents\\College Stuff\\Pictures\\Baby.jpg', -1)\n",
    "img = cv2.resize(img, (300,500))\n",
    "cv2.imshow(\"Baby is Highly Saturated\", img)\n",
    "cv2.waitKey(3000) # holds the image for 3 seconds, then screen is destroyed\n",
    "cv2.destroyAllWindows()"
   ]
  },
  {
   "cell_type": "markdown",
   "id": "edc963f5-3131-4779-af46-1c3e0affbdb4",
   "metadata": {},
   "source": [
    "#### Flip"
   ]
  },
  {
   "cell_type": "code",
   "execution_count": 45,
   "id": "26b440ed-9f51-468d-99f1-35902c8a2fae",
   "metadata": {},
   "outputs": [],
   "source": [
    "img = cv2.imread(r'D:\\Yadh Documents\\College Stuff\\Pictures\\Baby.jpg')\n",
    "img = cv2.resize(img, (300,500))\n",
    "img = cv2.flip(img,-1)\n",
    "cv2.imshow(\"Baby is Highly Saturated\", img)\n",
    "cv2.waitKey(3000) # holds the image for 3 seconds, then screen is destroyed\n",
    "cv2.destroyAllWindows()\n",
    "\n",
    "# 0 flips upside down\n",
    "# 1 flips left to right\n",
    "# -1 flips both"
   ]
  },
  {
   "cell_type": "code",
   "execution_count": null,
   "id": "dcd2e273-6302-492d-a372-c02b37b19537",
   "metadata": {},
   "outputs": [],
   "source": []
  }
 ],
 "metadata": {
  "kernelspec": {
   "display_name": "Python 3 (ipykernel)",
   "language": "python",
   "name": "python3"
  },
  "language_info": {
   "codemirror_mode": {
    "name": "ipython",
    "version": 3
   },
   "file_extension": ".py",
   "mimetype": "text/x-python",
   "name": "python",
   "nbconvert_exporter": "python",
   "pygments_lexer": "ipython3",
   "version": "3.12.6"
  }
 },
 "nbformat": 4,
 "nbformat_minor": 5
}
