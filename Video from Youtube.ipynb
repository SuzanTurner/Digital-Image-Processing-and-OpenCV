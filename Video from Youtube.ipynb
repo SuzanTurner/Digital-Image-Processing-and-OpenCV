{
 "cells": [
  {
   "cell_type": "code",
   "execution_count": 4,
   "id": "25574c28-bb81-4591-ba70-5a5c92e4d32f",
   "metadata": {},
   "outputs": [],
   "source": [
    "import pafy\n",
    "import cv2"
   ]
  },
  {
   "cell_type": "code",
   "execution_count": 13,
   "id": "a6a0e700-5b4a-4ca9-8217-af1d49496cc0",
   "metadata": {},
   "outputs": [
    {
     "ename": "AttributeError",
     "evalue": "module 'pafy' has no attribute 'set_api_backend'",
     "output_type": "error",
     "traceback": [
      "\u001b[1;31m---------------------------------------------------------------------------\u001b[0m",
      "\u001b[1;31mAttributeError\u001b[0m                            Traceback (most recent call last)",
      "Cell \u001b[1;32mIn[13], line 4\u001b[0m\n\u001b[0;32m      1\u001b[0m \u001b[38;5;28;01mimport\u001b[39;00m \u001b[38;5;21;01mpafy\u001b[39;00m\n\u001b[0;32m      2\u001b[0m \u001b[38;5;28;01mimport\u001b[39;00m \u001b[38;5;21;01mcv2\u001b[39;00m\n\u001b[1;32m----> 4\u001b[0m \u001b[43mpafy\u001b[49m\u001b[38;5;241;43m.\u001b[39;49m\u001b[43mset_api_backend\u001b[49m(\u001b[38;5;124m\"\u001b[39m\u001b[38;5;124myt-dlp\u001b[39m\u001b[38;5;124m\"\u001b[39m)\n\u001b[0;32m      6\u001b[0m url \u001b[38;5;241m=\u001b[39m \u001b[38;5;124m\"\u001b[39m\u001b[38;5;124mhttps://www.youtube.com/watch?v=OMOGaugKpzs&list=RDOMOGaugKpzs&start_radio=1\u001b[39m\u001b[38;5;124m\"\u001b[39m\n\u001b[0;32m      9\u001b[0m data \u001b[38;5;241m=\u001b[39m pafy\u001b[38;5;241m.\u001b[39mnew(url)\n",
      "\u001b[1;31mAttributeError\u001b[0m: module 'pafy' has no attribute 'set_api_backend'"
     ]
    }
   ],
   "source": [
    "import pafy\n",
    "import cv2\n",
    "\n",
    "pafy.set_api_backend(\"yt-dlp\")\n",
    "\n",
    "url = \"https://www.youtube.com/watch?v=OMOGaugKpzs&list=RDOMOGaugKpzs&start_radio=1\"\n",
    "\n",
    "\n",
    "data = pafy.new(url)\n",
    "data = data.getbest(preftype = \"mp4\")\n",
    "video = cv2.VideoCapture(data.url)\n",
    "video.open(data.url)\n",
    "\n",
    "fc = cv2.VideoWriter_fourcc(*\"XVID\")\n",
    "output = cv2.VideoWriter(r\"C:\\Users\\hp\\Downloads\\Video From YouTube.mp4\", fc, 20.0, (500,400))\n",
    "\n",
    "while video.isOpened():\n",
    "    ret, frame = video.read()\n",
    "    if ret:\n",
    "        frame = cv2.resize(frame, (500,400))\n",
    "        output.write(frame)\n",
    "        cv2.imshow(\"Every Breath You Take\", frame)\n",
    "        if cv2.waitKey(25) & 0xFF == ord('q'):\n",
    "            break\n",
    "\n",
    "output.release()\n",
    "video.release()\n",
    "cv2.destroyAllWindows()\n"
   ]
  },
  {
   "cell_type": "code",
   "execution_count": null,
   "id": "b8029f12-0fe1-40da-9ebe-468198551a0b",
   "metadata": {},
   "outputs": [],
   "source": []
  }
 ],
 "metadata": {
  "kernelspec": {
   "display_name": "Python 3 (ipykernel)",
   "language": "python",
   "name": "python3"
  },
  "language_info": {
   "codemirror_mode": {
    "name": "ipython",
    "version": 3
   },
   "file_extension": ".py",
   "mimetype": "text/x-python",
   "name": "python",
   "nbconvert_exporter": "python",
   "pygments_lexer": "ipython3",
   "version": "3.12.6"
  }
 },
 "nbformat": 4,
 "nbformat_minor": 5
}
