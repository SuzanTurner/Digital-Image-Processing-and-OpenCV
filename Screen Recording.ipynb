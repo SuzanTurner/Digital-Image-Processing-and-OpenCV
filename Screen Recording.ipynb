{
 "cells": [
  {
   "cell_type": "code",
   "execution_count": 3,
   "id": "73925242-120a-4b73-af89-7a4dd4119e80",
   "metadata": {},
   "outputs": [],
   "source": [
    "import cv2\n",
    "import pyautogui\n",
    "import numpy"
   ]
  },
  {
   "cell_type": "code",
   "execution_count": 9,
   "id": "2ccd7598-4cd7-4a94-a820-f77450ba766e",
   "metadata": {},
   "outputs": [],
   "source": [
    "rs = pyautogui.size()\n",
    "\n",
    "# some stats\n",
    "fps = 60.0\n",
    "path = r\"C:\\Users\\hp\\Downloads\\Screen Recording.mp4\"\n",
    "\n",
    "# output object\n",
    "fc = cv2.VideoWriter_fourcc(*\"XVID\")\n",
    "output = cv2.VideoWriter(path, fc, fps, rs)\n",
    "\n",
    "cv2.namedWindow(\"Screen Recording\", cv2.WINDOW_NORMAL)\n",
    "cv2.resizeWindow(\"Screen Recording\", (600,400))\n",
    "\n",
    "while True:\n",
    "    img = pyautogui.screenshot()\n",
    "    f = numpy.array(img) # saving each captured screenshot into a numpy array\n",
    "    f = cv2.cvtColor(f, cv2.COLOR_BGR2RGB) \n",
    "    output.write(f)\n",
    "    cv2.imshow(\"Screen Recording\", f)\n",
    "    if cv2.waitKey(25) & 0xFF == ord('q'):\n",
    "        break\n",
    "\n",
    "output.release()\n",
    "cv2.destroyAllWindows()\n"
   ]
  },
  {
   "cell_type": "code",
   "execution_count": null,
   "id": "1099ce81-a530-4917-ae1d-ac166beb50d9",
   "metadata": {},
   "outputs": [],
   "source": []
  },
  {
   "cell_type": "code",
   "execution_count": null,
   "id": "97ae1e39-0ff1-4d56-a1a0-54cffb88356f",
   "metadata": {},
   "outputs": [],
   "source": []
  }
 ],
 "metadata": {
  "kernelspec": {
   "display_name": "Python 3 (ipykernel)",
   "language": "python",
   "name": "python3"
  },
  "language_info": {
   "codemirror_mode": {
    "name": "ipython",
    "version": 3
   },
   "file_extension": ".py",
   "mimetype": "text/x-python",
   "name": "python",
   "nbconvert_exporter": "python",
   "pygments_lexer": "ipython3",
   "version": "3.12.6"
  }
 },
 "nbformat": 4,
 "nbformat_minor": 5
}
